{
 "cells": [
  {
   "cell_type": "code",
   "execution_count": 1,
   "metadata": {},
   "outputs": [],
   "source": [
    "#Import Module\n",
    "import ee\n",
    "import geemap"
   ]
  },
  {
   "cell_type": "code",
   "execution_count": 2,
   "metadata": {},
   "outputs": [
    {
     "data": {
      "text/html": [
       "<p>To authorize access needed by Earth Engine, open the following\n",
       "        URL in a web browser and follow the instructions:</p>\n",
       "        <p><a href=https://accounts.google.com/o/oauth2/auth?client_id=517222506229-vsmmajv00ul0bs7p89v5m89qs8eb9359.apps.googleusercontent.com&scope=https%3A%2F%2Fwww.googleapis.com%2Fauth%2Fearthengine+https%3A%2F%2Fwww.googleapis.com%2Fauth%2Fdevstorage.full_control&redirect_uri=urn%3Aietf%3Awg%3Aoauth%3A2.0%3Aoob&response_type=code&code_challenge=mvYt9mjJhuFh6A_y3BkcNHHOoApuFkqFjG6arlgSPFU&code_challenge_method=S256>https://accounts.google.com/o/oauth2/auth?client_id=517222506229-vsmmajv00ul0bs7p89v5m89qs8eb9359.apps.googleusercontent.com&scope=https%3A%2F%2Fwww.googleapis.com%2Fauth%2Fearthengine+https%3A%2F%2Fwww.googleapis.com%2Fauth%2Fdevstorage.full_control&redirect_uri=urn%3Aietf%3Awg%3Aoauth%3A2.0%3Aoob&response_type=code&code_challenge=mvYt9mjJhuFh6A_y3BkcNHHOoApuFkqFjG6arlgSPFU&code_challenge_method=S256</a></p>\n",
       "        <p>The authorization workflow will generate a code, which you\n",
       "        should paste in the box below</p>\n",
       "        "
      ],
      "text/plain": [
       "<IPython.core.display.HTML object>"
      ]
     },
     "metadata": {},
     "output_type": "display_data"
    },
    {
     "name": "stdout",
     "output_type": "stream",
     "text": [
      "Enter verification code: 4/0gE1d4-MDxpCRWZecTGAP8OVhnBSStlDF6id8F_mVN47jt3EM8HXzdw\n",
      "\n",
      "Successfully saved authorization token.\n"
     ]
    }
   ],
   "source": [
    "ee.Authenticate()\n",
    "ee.Initialize()"
   ]
  },
  {
   "cell_type": "code",
   "execution_count": 3,
   "metadata": {},
   "outputs": [
    {
     "name": "stdout",
     "output_type": "stream",
     "text": [
      "Tanggal Awal:2019-03-01\n",
      "Tanggal Akhir:2019-08-30\n",
      "Lokasi shp Area:D:\\Cloud Computing\\GEE\\SHP\\TN\\TNBTS (dari Kang Hardjono)\\ADM_TNBTS.shp\n",
      "Input Images Collection Link:COPERNICUS/S2\n",
      "images collection telah dibuat: imagescol\n"
     ]
    }
   ],
   "source": [
    "#Input Variabels\n",
    "start = input(\"Tanggal Awal:\")\n",
    "finish = input(\"Tanggal Akhir:\")\n",
    "bounds = geemap.shp_to_ee(input(\"Lokasi shp Area:\"))\n",
    "\n",
    "\n",
    "#Image Collection\n",
    "#Image Colection1\n",
    "collections = input(\"Input Images Collection Link:\")\n",
    "imagescol = ee.ImageCollection(collections).filterDate(start, finish).filterBounds(bounds).filter('CLOUDY_PIXEL_PERCENTAGE < 5').median()\n",
    "\n",
    "print('images collection telah dibuat:', 'imagescol')"
   ]
  },
  {
   "cell_type": "code",
   "execution_count": 4,
   "metadata": {},
   "outputs": [
    {
     "name": "stdout",
     "output_type": "stream",
     "text": [
      "Masukkan Lokaasi Vector:D:\\Cloud Computing\\GEE\\SHP\\TN\\TNBTS (dari Kang Hardjono)\\RESORT_TNBTS.shp\n",
      "Vector telah dibuat\n"
     ]
    }
   ],
   "source": [
    "#input Data Vector\n",
    "Vector = geemap.shp_to_ee(input(\"Masukkan Lokaasi Vector:\")) #Menambahkan Data Vector\n",
    "print(\"Vector telah dibuat\")"
   ]
  },
  {
   "cell_type": "code",
   "execution_count": 5,
   "metadata": {},
   "outputs": [],
   "source": [
    "#Indeks Vegetasi Function\n",
    "def indeksVegetasi(img):\n",
    "    rumus = input('Masukkan Formula:')\n",
    "    indeks = img.expression(rumus,\n",
    "                           {'B1': img.select('B1'),\n",
    "                            'B2': img.select('B2'),\n",
    "                            'B3': img.select('B3'), 'B4': img.select('B4'), 'B5': img.select('B5'), 'B6': img.select('B6'),\n",
    "                            'B7': img.select('B7'), 'B8': img.select('B8'), 'B9': img.select('B9'), 'B10': img.select('B10'),\n",
    "                            'B11': img.select('B11'), 'B12': img.select('B12'), 'B8A': img.select('B8A'), \n",
    "                            'QA10': img.select('QA10'), 'QA20': img.select('QA20'), 'QA60': img.select('QA60')})\n",
    "    return indeks\n"
   ]
  },
  {
   "cell_type": "code",
   "execution_count": 6,
   "metadata": {},
   "outputs": [
    {
     "name": "stdout",
     "output_type": "stream",
     "text": [
      "Masukkan Formula:(B8-B4)/(B8+B4)\n"
     ]
    }
   ],
   "source": [
    "NDVI = indeksVegetasi(imagescol)"
   ]
  },
  {
   "cell_type": "code",
   "execution_count": 7,
   "metadata": {},
   "outputs": [
    {
     "name": "stdout",
     "output_type": "stream",
     "text": [
      "Masukkan Formula:(B8-B12)/(B8+B12)\n"
     ]
    }
   ],
   "source": [
    "NBR = indeksVegetasi(imagescol)"
   ]
  },
  {
   "cell_type": "code",
   "execution_count": 16,
   "metadata": {},
   "outputs": [
    {
     "data": {
      "application/vnd.jupyter.widget-view+json": {
       "model_id": "2b3e1aa31bd04b8ab37bf211a1b7a672",
       "version_major": 2,
       "version_minor": 0
      },
      "text/plain": [
       "Map(center=[-8.033989020419346, 112.93390157219612], controls=(WidgetControl(options=['position'], widget=HBox…"
      ]
     },
     "metadata": {},
     "output_type": "display_data"
    }
   ],
   "source": [
    "#Visualisasi Overlay Hasil\n",
    "Map = geemap.Map()\n",
    "Map.centerObject(bounds, zoom=12)\n",
    "\n",
    "Map.addLayer(imagescol.clip(bounds),\n",
    "            {'bands': ['B4', 'B3', 'B2'], 'min': 0, 'max': 2500}, #Menampilkan Layer Images Collection\n",
    "            name='ImagesCllection')\n",
    "Map.addLayer(NDVI.clip(bounds), {'palette': ['red', 'yellow', 'green']}, #Menambahkan Layer Indeks NDVI\n",
    "                                name='NDVI')\n",
    "Map.addLayer(NBR.clip(bounds), {'palette': ['red', 'yellow', 'green']}, #Menambahkan Layer Indeks NBR\n",
    "                                name='NBR')\n",
    "Map.addLayer(Vector, {}, name='Resort')\n",
    "Map"
   ]
  },
  {
   "cell_type": "code",
   "execution_count": 17,
   "metadata": {},
   "outputs": [],
   "source": [
    "def makeSample(id):\n",
    "    variable = Map.draw_features\n",
    "    samplesfeature = ee.FeatureCollection(variable)\n",
    "    poly = ee.Geometry.MultiPolygon(samplesfeature.geometry().coordinates())\n",
    "    feature = ee.Feature(poly, {'class':id})\n",
    "    \n",
    "    return feature"
   ]
  },
  {
   "cell_type": "code",
   "execution_count": 18,
   "metadata": {},
   "outputs": [],
   "source": [
    "Pasir = makeSample(3)"
   ]
  },
  {
   "cell_type": "code",
   "execution_count": null,
   "metadata": {},
   "outputs": [],
   "source": []
  },
  {
   "cell_type": "code",
   "execution_count": 20,
   "metadata": {},
   "outputs": [],
   "source": [
    "trainingsamples = ee.FeatureCollection([Semak, Hutan, Pasir])"
   ]
  },
  {
   "cell_type": "code",
   "execution_count": 65,
   "metadata": {},
   "outputs": [],
   "source": [
    "bands = ['B8', 'B4', 'B3', 'B2']"
   ]
  },
  {
   "cell_type": "code",
   "execution_count": 75,
   "metadata": {},
   "outputs": [],
   "source": [
    "#Extract Pixel Value by Features for Training\n",
    "training = imagescol.select(bands).sampleRegions(**{'collection': trainingsamples,\n",
    "                                   'properties': ['class'],\n",
    "                                   'scale':10})"
   ]
  },
  {
   "cell_type": "code",
   "execution_count": 76,
   "metadata": {},
   "outputs": [],
   "source": [
    "#Define Classifier and Train\n",
    "DTC = ee.Classifier.randomForest(**{'bagFraction':0.2, \n",
    "                                   'numberOfTrees':200}).train(training, 'class', bands)"
   ]
  },
  {
   "cell_type": "code",
   "execution_count": 77,
   "metadata": {},
   "outputs": [],
   "source": [
    "#Classsify\n",
    "classified = imagescol.select(bands).clip(bounds).classify(DTC)"
   ]
  },
  {
   "cell_type": "code",
   "execution_count": 88,
   "metadata": {},
   "outputs": [
    {
     "data": {
      "application/vnd.jupyter.widget-view+json": {
       "model_id": "78634a17b9a24e2e9e4a456b95294c89",
       "version_major": 2,
       "version_minor": 0
      },
      "text/plain": [
       "Map(center=[-8.033989020419346, 112.93390157219612], controls=(WidgetControl(options=['position'], widget=HBox…"
      ]
     },
     "metadata": {},
     "output_type": "display_data"
    }
   ],
   "source": [
    "Map = geemap.Map()\n",
    "\n",
    "Map.centerObject(bounds, zoom=12)\n",
    "Map.addLayer(imagescol.clip(bounds),\n",
    "            {'bands': ['B4', 'B3', 'B2'], 'min': 0, 'max': 2500}, #Menampilkan Layer Images Collection\n",
    "            name='ImagesCllection')\n",
    "\n",
    "Map.addLayer(classified.clip(bounds), {'min':1,\n",
    "                         'max':3,\n",
    "                         'palette': ['yellow', 'green', 'red']}, \"Hasil Klasifikasi\")\n",
    "\n",
    "Legend_dict = {'Semak': '#f2f414','Hutan': '#2b814b', 'Pasir':'#f45823'}\n",
    "Map.add_legend('Legend PL', Legend_dict)\n",
    "\n",
    "\n",
    "\n",
    "Map"
   ]
  },
  {
   "cell_type": "code",
   "execution_count": null,
   "metadata": {},
   "outputs": [],
   "source": []
  }
 ],
 "metadata": {
  "kernelspec": {
   "display_name": "Python 3",
   "language": "python",
   "name": "python3"
  },
  "language_info": {
   "codemirror_mode": {
    "name": "ipython",
    "version": 3
   },
   "file_extension": ".py",
   "mimetype": "text/x-python",
   "name": "python",
   "nbconvert_exporter": "python",
   "pygments_lexer": "ipython3",
   "version": "3.7.7"
  }
 },
 "nbformat": 4,
 "nbformat_minor": 4
}

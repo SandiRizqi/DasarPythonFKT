{
 "cells": [
  {
   "cell_type": "code",
   "execution_count": 1,
   "metadata": {},
   "outputs": [],
   "source": [
    "#Package\n",
    "import ee\n",
    "import folium\n",
    "import geemap\n",
    "import rasterio"
   ]
  },
  {
   "cell_type": "code",
   "execution_count": 2,
   "metadata": {},
   "outputs": [
    {
     "data": {
      "text/html": [
       "<p>To authorize access needed by Earth Engine, open the following\n",
       "        URL in a web browser and follow the instructions:</p>\n",
       "        <p><a href=https://accounts.google.com/o/oauth2/auth?client_id=517222506229-vsmmajv00ul0bs7p89v5m89qs8eb9359.apps.googleusercontent.com&scope=https%3A%2F%2Fwww.googleapis.com%2Fauth%2Fearthengine+https%3A%2F%2Fwww.googleapis.com%2Fauth%2Fdevstorage.full_control&redirect_uri=urn%3Aietf%3Awg%3Aoauth%3A2.0%3Aoob&response_type=code&code_challenge=i-DfPP-zGJM_utd4Fyhi9x4eFXxvspuj9q6KaeTbCA8&code_challenge_method=S256>https://accounts.google.com/o/oauth2/auth?client_id=517222506229-vsmmajv00ul0bs7p89v5m89qs8eb9359.apps.googleusercontent.com&scope=https%3A%2F%2Fwww.googleapis.com%2Fauth%2Fearthengine+https%3A%2F%2Fwww.googleapis.com%2Fauth%2Fdevstorage.full_control&redirect_uri=urn%3Aietf%3Awg%3Aoauth%3A2.0%3Aoob&response_type=code&code_challenge=i-DfPP-zGJM_utd4Fyhi9x4eFXxvspuj9q6KaeTbCA8&code_challenge_method=S256</a></p>\n",
       "        <p>The authorization workflow will generate a code, which you\n",
       "        should paste in the box below</p>\n",
       "        "
      ],
      "text/plain": [
       "<IPython.core.display.HTML object>"
      ]
     },
     "metadata": {},
     "output_type": "display_data"
    },
    {
     "name": "stdout",
     "output_type": "stream",
     "text": [
      "Enter verification code: 4/1gG21UECIAHMC3VAZVXtLO3NlW0yTBeCFgdeYeYmr6DrU7YrTzOFUIs\n",
      "\n",
      "Successfully saved authorization token.\n"
     ]
    }
   ],
   "source": [
    "ee.Authenticate()\n",
    "ee.Initialize()"
   ]
  },
  {
   "cell_type": "code",
   "execution_count": null,
   "metadata": {},
   "outputs": [],
   "source": []
  },
  {
   "cell_type": "code",
   "execution_count": null,
   "metadata": {},
   "outputs": [],
   "source": []
  },
  {
   "cell_type": "code",
   "execution_count": null,
   "metadata": {},
   "outputs": [],
   "source": []
  },
  {
   "cell_type": "code",
   "execution_count": null,
   "metadata": {},
   "outputs": [],
   "source": []
  },
  {
   "cell_type": "code",
   "execution_count": null,
   "metadata": {},
   "outputs": [],
   "source": []
  },
  {
   "cell_type": "code",
   "execution_count": null,
   "metadata": {},
   "outputs": [],
   "source": []
  },
  {
   "cell_type": "code",
   "execution_count": null,
   "metadata": {},
   "outputs": [],
   "source": []
  },
  {
   "cell_type": "code",
   "execution_count": null,
   "metadata": {},
   "outputs": [],
   "source": []
  },
  {
   "cell_type": "code",
   "execution_count": null,
   "metadata": {},
   "outputs": [],
   "source": []
  },
  {
   "cell_type": "code",
   "execution_count": null,
   "metadata": {},
   "outputs": [],
   "source": []
  },
  {
   "cell_type": "code",
   "execution_count": null,
   "metadata": {},
   "outputs": [],
   "source": []
  },
  {
   "cell_type": "code",
   "execution_count": 3,
   "metadata": {},
   "outputs": [],
   "source": [
    "images = ee.ImageCollection(\"COPERNICUS/S2\")\\\n",
    "            .filterBounds(ee.Geometry.Rectangle(110.7, -7, 110.9, -6.8))\\\n",
    "            .filterDate(ee.Date('2019-03-01'), ee.Date('2019-12-30'))\\\n",
    "            .filter(ee.Filter.lt('CLOUDY_PIXEL_PERCENTAGE', 5))\\\n",
    "            .sort('CLOUDY_PIXEL_PERCENTAGE').first()"
   ]
  },
  {
   "cell_type": "code",
   "execution_count": 4,
   "metadata": {},
   "outputs": [],
   "source": [
    "NDVI = images.expression('(B8-B4)/(B8+B4)', {'B8': images.select('B8'),\n",
    "                                            'B4': images.select('B4')}).rename('NDVI')\n"
   ]
  },
  {
   "cell_type": "code",
   "execution_count": 16,
   "metadata": {},
   "outputs": [],
   "source": [
    "vis = {'bands': ['B4', 'B3', 'B2'],\n",
    "      'min': 0,\n",
    "      'max':3000}\n",
    "\n",
    "vegvis = {'bands': ['B8', 'B4', 'B3'],\n",
    "      'min': 0,\n",
    "      'max':3000}\n",
    "\n",
    "indeksvis = {'palette': ['red', 'yellow', 'green']}"
   ]
  },
  {
   "cell_type": "code",
   "execution_count": 17,
   "metadata": {},
   "outputs": [
    {
     "data": {
      "application/vnd.jupyter.widget-view+json": {
       "model_id": "1243411af49042fd9166366498cd3aa1",
       "version_major": 2,
       "version_minor": 0
      },
      "text/plain": [
       "Map(center=[-6.4998440994712965, 110.59999999999961], controls=(WidgetControl(options=['position'], widget=HBo…"
      ]
     },
     "metadata": {},
     "output_type": "display_data"
    }
   ],
   "source": [
    "Map = geemap.Map()\n",
    "\n",
    "Map.centerObject(ee.Geometry.Rectangle(110.7, -7, 110.5, -6), zoom=12)\n",
    "Map.addLayer(images, vis, 'Citra')\n",
    "Map.addLayer(images, vegvis, 'Citra Veg')\n",
    "Map.addLayer(NDVI, indeksvis, 'NDVI')\n",
    "Map"
   ]
  },
  {
   "cell_type": "code",
   "execution_count": 91,
   "metadata": {},
   "outputs": [],
   "source": [
    "NormalColor = geemap.ee_tile_layer(images, vis, 'Citra Semarang')\n",
    "IndeksColor = geemap.ee_tile_layer(NDVI, indeksvis, 'NDVI')"
   ]
  },
  {
   "cell_type": "code",
   "execution_count": 93,
   "metadata": {},
   "outputs": [
    {
     "data": {
      "application/vnd.jupyter.widget-view+json": {
       "model_id": "4b2abf181df24f0781e5955c2b34ecbd",
       "version_major": 2,
       "version_minor": 0
      },
      "text/plain": [
       "Map(center=[-6.900003367659871, 110.79999999999973], controls=(WidgetControl(options=['position'], widget=HBox…"
      ]
     },
     "metadata": {},
     "output_type": "display_data"
    }
   ],
   "source": [
    "smap = geemap.Map()\n",
    "smap.centerObject(ee.Geometry.Rectangle(110.7, -7, 110.9, -6.8), zoom=10)\n",
    "\n",
    "smap.split_map(NormalColor, IndeksColor)\n",
    "smap"
   ]
  },
  {
   "cell_type": "code",
   "execution_count": null,
   "metadata": {},
   "outputs": [],
   "source": []
  },
  {
   "cell_type": "code",
   "execution_count": 42,
   "metadata": {},
   "outputs": [],
   "source": [
    "bound = Map.draw_last_feature"
   ]
  },
  {
   "cell_type": "code",
   "execution_count": 49,
   "metadata": {},
   "outputs": [
    {
     "data": {
      "text/plain": [
       "[[[110.216708, -7.111386],\n",
       "  [110.216708, -6.800035],\n",
       "  [110.610623, -6.800035],\n",
       "  [110.610623, -7.111386],\n",
       "  [110.216708, -7.111386]]]"
      ]
     },
     "execution_count": 49,
     "metadata": {},
     "output_type": "execute_result"
    }
   ],
   "source": [
    "bound.geometry().coordinates().getInfo()"
   ]
  },
  {
   "cell_type": "code",
   "execution_count": 50,
   "metadata": {},
   "outputs": [],
   "source": [
    "imgclip = images.clip(bound)"
   ]
  },
  {
   "cell_type": "code",
   "execution_count": 51,
   "metadata": {},
   "outputs": [
    {
     "data": {
      "application/vnd.jupyter.widget-view+json": {
       "model_id": "fe54d5734c054013b7e5edea82671d34",
       "version_major": 2,
       "version_minor": 0
      },
      "text/plain": [
       "Map(center=[-6.955708559267196, 110.41366549999931], controls=(WidgetControl(options=['position'], widget=HBox…"
      ]
     },
     "metadata": {},
     "output_type": "display_data"
    }
   ],
   "source": [
    "Map = geemap.Map()\n",
    "\n",
    "Map.centerObject(bound, zoom=12)\n",
    "Map.addLayer(imgclip, vis, 'Citra')\n",
    "Map.addLayer(imgclip, vegvis, 'Citra Veg')\n",
    "Map"
   ]
  },
  {
   "cell_type": "code",
   "execution_count": 57,
   "metadata": {},
   "outputs": [],
   "source": [
    "task = ee.batch.Export.image.toDrive(imgclip.select(['B8', 'B4', 'B3']), 'Semarang', folder='KotaSemarang', fileNamePrefix='CitraSemarangVeg', region=bound.geometry(), scale=10 )\n",
    "task.start()"
   ]
  }
 ],
 "metadata": {
  "kernelspec": {
   "display_name": "Python 3",
   "language": "python",
   "name": "python3"
  },
  "language_info": {
   "codemirror_mode": {
    "name": "ipython",
    "version": 3
   },
   "file_extension": ".py",
   "mimetype": "text/x-python",
   "name": "python",
   "nbconvert_exporter": "python",
   "pygments_lexer": "ipython3",
   "version": "3.7.7"
  }
 },
 "nbformat": 4,
 "nbformat_minor": 4
}
